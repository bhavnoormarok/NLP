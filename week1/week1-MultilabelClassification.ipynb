{
 "cells": [
  {
   "cell_type": "markdown",
   "metadata": {},
   "source": [
    "# Predict tags on StackOverflow with linear models"
   ]
  },
  {
   "cell_type": "markdown",
   "metadata": {},
   "source": [
    "In this assignment you will learn how to predict tags for posts from [StackOverflow](https://stackoverflow.com). To solve this task you will use multilabel classification approach.\n",
    "\n",
    "### Libraries\n",
    "\n",
    "In this task you will need the following libraries:\n",
    "- [Numpy](http://www.numpy.org) — a package for scientific computing.\n",
    "- [Pandas](https://pandas.pydata.org) — a library providing high-performance, easy-to-use data structures and data analysis tools for the Python\n",
    "- [scikit-learn](http://scikit-learn.org/stable/index.html) — a tool for data mining and data analysis.\n",
    "- [NLTK](http://www.nltk.org) — a platform to work with natural language."
   ]
  },
  {
   "cell_type": "markdown",
   "metadata": {},
   "source": [
    "### Data\n",
    "\n",
    "The following cell will download all data required for this assignment into the folder `week1/data`."
   ]
  },
  {
   "cell_type": "code",
   "execution_count": 1,
   "metadata": {},
   "outputs": [
    {
     "name": "stdout",
     "output_type": "stream",
     "text": [
      "File data\\train.tsv is already downloaded.\n",
      "File data\\validation.tsv is already downloaded.\n",
      "File data\\test.tsv is already downloaded.\n",
      "File data\\text_prepare_tests.tsv is already downloaded.\n"
     ]
    }
   ],
   "source": [
    "try:\n",
    "    import google.colab\n",
    "    IN_COLAB = True\n",
    "except:\n",
    "    IN_COLAB = False\n",
    "\n",
    "if IN_COLAB:\n",
    "    ! wget https://raw.githubusercontent.com/hse-aml/natural-language-processing/master/setup_google_colab.py -O setup_google_colab.py\n",
    "    import setup_google_colab\n",
    "    setup_google_colab.setup_week1() \n",
    "    \n",
    "import sys\n",
    "sys.path.append(\"..\")\n",
    "from common.download_utils import download_week1_resources\n",
    "\n",
    "download_week1_resources()"
   ]
  },
  {
   "cell_type": "markdown",
   "metadata": {},
   "source": [
    "### Grading\n",
    "We will create a grader instance below and use it to collect your answers. Note that these outputs will be stored locally inside grader and will be uploaded to platform only after running submitting function in the last part of this assignment. If you want to make partial submission, you can run that cell any time you want."
   ]
  },
  {
   "cell_type": "code",
   "execution_count": 2,
   "metadata": {},
   "outputs": [],
   "source": [
    "from grader import Grader"
   ]
  },
  {
   "cell_type": "code",
   "execution_count": 3,
   "metadata": {},
   "outputs": [],
   "source": [
    "grader = Grader()"
   ]
  },
  {
   "cell_type": "markdown",
   "metadata": {},
   "source": [
    "### Text preprocessing"
   ]
  },
  {
   "cell_type": "markdown",
   "metadata": {},
   "source": [
    "For this and most of the following assignments you will need to use a list of stop words. It can be downloaded from *nltk*:"
   ]
  },
  {
   "cell_type": "code",
   "execution_count": 4,
   "metadata": {},
   "outputs": [
    {
     "name": "stderr",
     "output_type": "stream",
     "text": [
      "[nltk_data] Downloading package stopwords to\n",
      "[nltk_data]     C:\\Users\\bhavn\\AppData\\Roaming\\nltk_data...\n",
      "[nltk_data]   Package stopwords is already up-to-date!\n"
     ]
    }
   ],
   "source": [
    "import nltk\n",
    "nltk.download('stopwords')\n",
    "from nltk.corpus import stopwords"
   ]
  },
  {
   "cell_type": "markdown",
   "metadata": {},
   "source": [
    "In this task you will deal with a dataset of post titles from StackOverflow. You are provided a split to 3 sets: *train*, *validation* and *test*. All corpora (except for *test*) contain titles of the posts and corresponding tags (100 tags are available). The *test* set is provided for Coursera's grading and doesn't contain answers. Upload the corpora using *pandas* and look at the data:"
   ]
  },
  {
   "cell_type": "code",
   "execution_count": 5,
   "metadata": {},
   "outputs": [],
   "source": [
    "from ast import literal_eval\n",
    "import pandas as pd\n",
    "import numpy as np"
   ]
  },
  {
   "cell_type": "code",
   "execution_count": 6,
   "metadata": {},
   "outputs": [],
   "source": [
    "def read_data(filename):\n",
    "    data = pd.read_csv(filename, sep='\\t')\n",
    "    data['tags'] = data['tags'].apply(literal_eval)\n",
    "    return data"
   ]
  },
  {
   "cell_type": "code",
   "execution_count": 7,
   "metadata": {},
   "outputs": [],
   "source": [
    "train = read_data('data/train.tsv')\n",
    "validation = read_data('data/validation.tsv')\n",
    "test = pd.read_csv('data/test.tsv', sep='\\t')"
   ]
  },
  {
   "cell_type": "code",
   "execution_count": 8,
   "metadata": {},
   "outputs": [
    {
     "data": {
      "text/html": [
       "<div>\n",
       "<style scoped>\n",
       "    .dataframe tbody tr th:only-of-type {\n",
       "        vertical-align: middle;\n",
       "    }\n",
       "\n",
       "    .dataframe tbody tr th {\n",
       "        vertical-align: top;\n",
       "    }\n",
       "\n",
       "    .dataframe thead th {\n",
       "        text-align: right;\n",
       "    }\n",
       "</style>\n",
       "<table border=\"1\" class=\"dataframe\">\n",
       "  <thead>\n",
       "    <tr style=\"text-align: right;\">\n",
       "      <th></th>\n",
       "      <th>title</th>\n",
       "      <th>tags</th>\n",
       "    </tr>\n",
       "  </thead>\n",
       "  <tbody>\n",
       "    <tr>\n",
       "      <th>0</th>\n",
       "      <td>How to draw a stacked dotplot in R?</td>\n",
       "      <td>[r]</td>\n",
       "    </tr>\n",
       "    <tr>\n",
       "      <th>1</th>\n",
       "      <td>mysql select all records where a datetime fiel...</td>\n",
       "      <td>[php, mysql]</td>\n",
       "    </tr>\n",
       "    <tr>\n",
       "      <th>2</th>\n",
       "      <td>How to terminate windows phone 8.1 app</td>\n",
       "      <td>[c#]</td>\n",
       "    </tr>\n",
       "    <tr>\n",
       "      <th>3</th>\n",
       "      <td>get current time in a specific country via jquery</td>\n",
       "      <td>[javascript, jquery]</td>\n",
       "    </tr>\n",
       "    <tr>\n",
       "      <th>4</th>\n",
       "      <td>Configuring Tomcat to Use SSL</td>\n",
       "      <td>[java]</td>\n",
       "    </tr>\n",
       "  </tbody>\n",
       "</table>\n",
       "</div>"
      ],
      "text/plain": [
       "                                               title                  tags\n",
       "0                How to draw a stacked dotplot in R?                   [r]\n",
       "1  mysql select all records where a datetime fiel...          [php, mysql]\n",
       "2             How to terminate windows phone 8.1 app                  [c#]\n",
       "3  get current time in a specific country via jquery  [javascript, jquery]\n",
       "4                      Configuring Tomcat to Use SSL                [java]"
      ]
     },
     "execution_count": 8,
     "metadata": {},
     "output_type": "execute_result"
    }
   ],
   "source": [
    "train.head()"
   ]
  },
  {
   "cell_type": "markdown",
   "metadata": {},
   "source": [
    "As you can see, *title* column contains titles of the posts and *tags* column contains the tags. It could be noticed that a number of tags for a post is not fixed and could be as many as necessary."
   ]
  },
  {
   "cell_type": "markdown",
   "metadata": {},
   "source": [
    "For a more comfortable usage, initialize *X_train*, *X_val*, *X_test*, *y_train*, *y_val*."
   ]
  },
  {
   "cell_type": "code",
   "execution_count": 9,
   "metadata": {},
   "outputs": [],
   "source": [
    "X_train, y_train = train['title'].values, train['tags'].values\n",
    "X_val, y_val = validation['title'].values, validation['tags'].values\n",
    "X_test = test['title'].values"
   ]
  },
  {
   "cell_type": "markdown",
   "metadata": {},
   "source": [
    "One of the most known difficulties when working with natural data is that it's unstructured. For example, if you use it \"as is\" and extract tokens just by splitting the titles by whitespaces, you will see that there are many \"weird\" tokens like *3.5?*, *\"Flip*, etc. To prevent the problems, it's usually useful to prepare the data somehow. In this task you'll write a function, which will be also used in the other assignments. \n",
    "\n",
    "**Task 1 (TextPrepare).** Implement the function *text_prepare* following the instructions. After that, run the function *test_text_prepare* to test it on tiny cases and submit it to Coursera."
   ]
  },
  {
   "cell_type": "code",
   "execution_count": 10,
   "metadata": {},
   "outputs": [],
   "source": [
    "import re"
   ]
  },
  {
   "cell_type": "code",
   "execution_count": 11,
   "metadata": {},
   "outputs": [],
   "source": [
    "REPLACE_BY_SPACE_RE = re.compile('[/(){}\\[\\]\\|@,;]')\n",
    "BAD_SYMBOLS_RE = re.compile('[^0-9a-z #+_]')\n",
    "STOPWORDS = set(stopwords.words('english'))\n",
    "\n",
    "def text_prepare(text):\n",
    "    \"\"\"\n",
    "        text: a string\n",
    "        \n",
    "        return: modified initial string\n",
    "    \"\"\"\n",
    "    text = text.lower()                           # lowercase text\n",
    "    text = re.sub(REPLACE_BY_SPACE_RE, ' ', text) # replace REPLACE_BY_SPACE_RE symbols by space in text\n",
    "    text = re.sub(BAD_SYMBOLS_RE, '', text)       # delete symbols which are in BAD_SYMBOLS_RE from text\n",
    "    text = ' '.join([word for word in text.split() if word not in STOPWORDS])       # delete stopwords from text\n",
    "    return text"
   ]
  },
  {
   "cell_type": "code",
   "execution_count": 12,
   "metadata": {},
   "outputs": [],
   "source": [
    "def test_text_prepare():\n",
    "    examples = [\"SQL Server - any equivalent of Excel's CHOOSE function?\",\n",
    "                \"How to free c++ memory vector<int> * arr?\"]\n",
    "    answers = [\"sql server equivalent excels choose function\", \n",
    "               \"free c++ memory vectorint arr\"]\n",
    "    for ex, ans in zip(examples, answers):\n",
    "        if text_prepare(ex) != ans:\n",
    "            return \"Wrong answer for the case: '%s'\" % ex\n",
    "    return 'Basic tests are passed.'"
   ]
  },
  {
   "cell_type": "code",
   "execution_count": 13,
   "metadata": {},
   "outputs": [
    {
     "name": "stdout",
     "output_type": "stream",
     "text": [
      "Basic tests are passed.\n"
     ]
    }
   ],
   "source": [
    "print(test_text_prepare())"
   ]
  },
  {
   "cell_type": "markdown",
   "metadata": {},
   "source": [
    "Run your implementation for questions from file *text_prepare_tests.tsv* to earn the points."
   ]
  },
  {
   "cell_type": "code",
   "execution_count": 14,
   "metadata": {},
   "outputs": [
    {
     "name": "stdout",
     "output_type": "stream",
     "text": [
      "Current answer for task TextPrepare is:\n",
      " sqlite php readonly\n",
      "creating multiple textboxes dynamically\n",
      "self one prefer javascript\n",
      "save php date...\n"
     ]
    }
   ],
   "source": [
    "prepared_questions = []\n",
    "for line in open('data/text_prepare_tests.tsv', encoding='utf-8'):\n",
    "    line = text_prepare(line.strip())\n",
    "    prepared_questions.append(line)\n",
    "text_prepare_results = '\\n'.join(prepared_questions)\n",
    "\n",
    "grader.submit_tag('TextPrepare', text_prepare_results)"
   ]
  },
  {
   "cell_type": "markdown",
   "metadata": {},
   "source": [
    "Now we can preprocess the titles using function *text_prepare* and  making sure that the headers don't have bad symbols:"
   ]
  },
  {
   "cell_type": "code",
   "execution_count": 15,
   "metadata": {},
   "outputs": [],
   "source": [
    "X_train = [text_prepare(x) for x in X_train]\n",
    "X_val = [text_prepare(x) for x in X_val]\n",
    "X_test = [text_prepare(x) for x in X_test]"
   ]
  },
  {
   "cell_type": "code",
   "execution_count": 16,
   "metadata": {},
   "outputs": [
    {
     "data": {
      "text/plain": [
       "['draw stacked dotplot r',\n",
       " 'mysql select records datetime field less specified value',\n",
       " 'terminate windows phone 81 app']"
      ]
     },
     "execution_count": 16,
     "metadata": {},
     "output_type": "execute_result"
    }
   ],
   "source": [
    "X_train[:3]"
   ]
  },
  {
   "cell_type": "markdown",
   "metadata": {},
   "source": [
    "For each tag and for each word calculate how many times they occur in the train corpus. \n",
    "\n",
    "**Task 2 (WordsTagsCount).** Find 3 most popular tags and 3 most popular words in the train data and submit the results to earn the points."
   ]
  },
  {
   "cell_type": "code",
   "execution_count": 17,
   "metadata": {},
   "outputs": [],
   "source": [
    "# Dictionary of all tags from train corpus with their counts.\n",
    "tags_counts = {}\n",
    "# Dictionary of all words from train corpus with their counts.\n",
    "words_counts = {}\n",
    "for words in X_train:\n",
    "    for word in words.split():\n",
    "        if word in words_counts.keys():\n",
    "            words_counts[word] += 1\n",
    "        else:\n",
    "            words_counts[word] = 1\n",
    "\n",
    "for tags in y_train:\n",
    "    for tag in tags:\n",
    "        if tag in tags_counts.keys():\n",
    "            tags_counts[tag] += 1\n",
    "        else:\n",
    "            tags_counts[tag] = 1\n",
    "            \n",
    "\n",
    "######################################\n",
    "######### YOUR CODE HERE #############\n",
    "######################################"
   ]
  },
  {
   "cell_type": "markdown",
   "metadata": {},
   "source": [
    "We are assuming that *tags_counts* and *words_counts* are dictionaries like `{'some_word_or_tag': frequency}`. After applying the sorting procedure, results will be look like this: `[('most_popular_word_or_tag', frequency), ('less_popular_word_or_tag', frequency), ...]`. The grader gets the results in the following format (two comma-separated strings with line break):\n",
    "\n",
    "    tag1,tag2,tag3\n",
    "    word1,word2,word3\n",
    "\n",
    "Pay attention that in this assignment you should not submit frequencies or some additional information."
   ]
  },
  {
   "cell_type": "code",
   "execution_count": 18,
   "metadata": {},
   "outputs": [
    {
     "name": "stdout",
     "output_type": "stream",
     "text": [
      "Current answer for task WordsTagsCount is:\n",
      " javascript,c#,java\n",
      "using,php,java...\n"
     ]
    }
   ],
   "source": [
    "most_common_tags = sorted(tags_counts.items(), key=lambda x: x[1], reverse=True)[:3]\n",
    "most_common_words = sorted(words_counts.items(), key=lambda x: x[1], reverse=True)[:3]\n",
    "\n",
    "grader.submit_tag('WordsTagsCount', '%s\\n%s' % (','.join(tag for tag, _ in most_common_tags), \n",
    "                                                ','.join(word for word, _ in most_common_words)))"
   ]
  },
  {
   "cell_type": "markdown",
   "metadata": {},
   "source": [
    "### Transforming text to a vector\n",
    "\n",
    "Machine Learning algorithms work with numeric data and we cannot use the provided text data \"as is\". There are many ways to transform text data to numeric vectors. In this task you will try to use two of them.\n",
    "\n",
    "#### Bag of words\n",
    "\n",
    "One of the well-known approaches is a *bag-of-words* representation. To create this transformation, follow the steps:\n",
    "1. Find *N* most popular words in train corpus and numerate them. Now we have a dictionary of the most popular words.\n",
    "2. For each title in the corpora create a zero vector with the dimension equals to *N*.\n",
    "3. For each text in the corpora iterate over words which are in the dictionary and increase by 1 the corresponding coordinate.\n",
    "\n",
    "Let's try to do it for a toy example. Imagine that we have *N* = 4 and the list of the most popular words is \n",
    "\n",
    "    ['hi', 'you', 'me', 'are']\n",
    "\n",
    "Then we need to numerate them, for example, like this: \n",
    "\n",
    "    {'hi': 0, 'you': 1, 'me': 2, 'are': 3}\n",
    "\n",
    "And we have the text, which we want to transform to the vector:\n",
    "\n",
    "    'hi how are you'\n",
    "\n",
    "For this text we create a corresponding zero vector \n",
    "\n",
    "    [0, 0, 0, 0]\n",
    "    \n",
    "And iterate over all words, and if the word is in the dictionary, we increase the value of the corresponding position in the vector:\n",
    "\n",
    "    'hi':  [1, 0, 0, 0]\n",
    "    'how': [1, 0, 0, 0] # word 'how' is not in our dictionary\n",
    "    'are': [1, 0, 0, 1]\n",
    "    'you': [1, 1, 0, 1]\n",
    "\n",
    "The resulting vector will be \n",
    "\n",
    "    [1, 1, 0, 1]\n",
    "   \n",
    "Implement the described encoding in the function *my_bag_of_words* with the size of the dictionary equals to 5000. To find the most common words use train data. You can test your code using the function *test_my_bag_of_words*."
   ]
  },
  {
   "cell_type": "code",
   "execution_count": 39,
   "metadata": {},
   "outputs": [],
   "source": [
    "DICT_SIZE = 5000\n",
    "\n",
    "common_words = sorted(words_counts.keys(), key=lambda x:words_counts[x] , reverse=True)[:DICT_SIZE]\n",
    "WORDS_TO_INDEX = {}####### YOUR CODE HERE #######\n",
    "INDEX_TO_WORDS = {}####### YOUR CODE HERE #######\n",
    "i = 0\n",
    "for word in common_words:\n",
    "    WORDS_TO_INDEX[word] = i\n",
    "    INDEX_TO_WORDS[i] = word\n",
    "    i += 1\n",
    "ALL_WORDS = WORDS_TO_INDEX.keys()\n",
    "\n",
    "def my_bag_of_words(text, words_to_index, dict_size):\n",
    "    \"\"\"\n",
    "        text: a string\n",
    "        dict_size: size of the dictionary\n",
    "        \n",
    "        return a vector which is a bag-of-words representation of 'text'\n",
    "    \"\"\"\n",
    "    result_vector = np.array([0]*dict_size)\n",
    "    for word in words_to_index.keys():\n",
    "        if word in text.split():\n",
    "            result_vector[words_to_index[word]] = 1\n",
    "    ######################################\n",
    "    ######### YOUR CODE HERE #############\n",
    "    ######################################\n",
    "    return result_vector"
   ]
  },
  {
   "cell_type": "code",
   "execution_count": 40,
   "metadata": {},
   "outputs": [],
   "source": [
    "def test_my_bag_of_words():\n",
    "    words_to_index = {'hi': 0, 'you': 1, 'me': 2, 'are': 3}\n",
    "    examples = ['hi how are you']\n",
    "    answers = [[1, 1, 0, 1]]\n",
    "    for ex, ans in zip(examples, answers):\n",
    "        if (my_bag_of_words(ex, words_to_index, 4) != ans).any():\n",
    "            return \"Wrong answer for the case: '%s'\" % ex\n",
    "    return 'Basic tests are passed.'"
   ]
  },
  {
   "cell_type": "code",
   "execution_count": 41,
   "metadata": {},
   "outputs": [
    {
     "name": "stdout",
     "output_type": "stream",
     "text": [
      "Basic tests are passed.\n"
     ]
    }
   ],
   "source": [
    "print(test_my_bag_of_words())"
   ]
  },
  {
   "cell_type": "markdown",
   "metadata": {},
   "source": [
    "Now apply the implemented function to all samples (this might take up to a minute):"
   ]
  },
  {
   "cell_type": "code",
   "execution_count": 42,
   "metadata": {},
   "outputs": [],
   "source": [
    "from scipy import sparse as sp_sparse"
   ]
  },
  {
   "cell_type": "code",
   "execution_count": 43,
   "metadata": {},
   "outputs": [
    {
     "name": "stdout",
     "output_type": "stream",
     "text": [
      "X_train shape  (100000, 5000)\n",
      "X_val shape  (30000, 5000)\n",
      "X_test shape  (20000, 5000)\n"
     ]
    }
   ],
   "source": [
    "X_train_mybag = sp_sparse.vstack([sp_sparse.csr_matrix(my_bag_of_words(text, WORDS_TO_INDEX, DICT_SIZE)) for text in X_train])\n",
    "X_val_mybag = sp_sparse.vstack([sp_sparse.csr_matrix(my_bag_of_words(text, WORDS_TO_INDEX, DICT_SIZE)) for text in X_val])\n",
    "X_test_mybag = sp_sparse.vstack([sp_sparse.csr_matrix(my_bag_of_words(text, WORDS_TO_INDEX, DICT_SIZE)) for text in X_test])\n",
    "print('X_train shape ', X_train_mybag.shape)\n",
    "print('X_val shape ', X_val_mybag.shape)\n",
    "print('X_test shape ', X_test_mybag.shape)"
   ]
  },
  {
   "cell_type": "markdown",
   "metadata": {},
   "source": [
    "As you might notice, we transform the data to sparse representation, to store the useful information efficiently. There are many [types](https://docs.scipy.org/doc/scipy/reference/sparse.html) of such representations, however sklearn algorithms can work only with [csr](https://docs.scipy.org/doc/scipy/reference/generated/scipy.sparse.csr_matrix.html#scipy.sparse.csr_matrix) matrix, so we will use this one."
   ]
  },
  {
   "cell_type": "markdown",
   "metadata": {},
   "source": [
    "**Task 3 (BagOfWords).** For the 11th row in *X_train_mybag* find how many non-zero elements it has. In this task the answer (variable *non_zero_elements_count*) should be an integer number, e.g. 20."
   ]
  },
  {
   "cell_type": "code",
   "execution_count": 44,
   "metadata": {},
   "outputs": [
    {
     "name": "stdout",
     "output_type": "stream",
     "text": [
      "[0 0 0 ... 0 0 0]\n",
      "Current answer for task BagOfWords is:\n",
      " 7...\n"
     ]
    }
   ],
   "source": [
    "print(X_train_mybag[10].toarray()[0])\n",
    "row = X_train_mybag[10].toarray()[0]\n",
    "non_zero_elements_count = len(row) - list(row).count(0)####### YOUR CODE HERE #######\n",
    "grader.submit_tag('BagOfWords', str(non_zero_elements_count))"
   ]
  },
  {
   "cell_type": "markdown",
   "metadata": {},
   "source": [
    "#### TF-IDF\n",
    "\n",
    "The second approach extends the bag-of-words framework by taking into account total frequencies of words in the corpora. It helps to penalize too frequent words and provide better features space. \n",
    "\n",
    "Implement function *tfidf_features* using class [TfidfVectorizer](http://scikit-learn.org/stable/modules/generated/sklearn.feature_extraction.text.TfidfVectorizer.html) from *scikit-learn*. Use *train* corpus to train a vectorizer. Don't forget to take a look into the arguments that you can pass to it. We suggest that you filter out too rare words (occur less than in 5 titles) and too frequent words (occur more than in 90% of the titles). Also, use bigrams along with unigrams in your vocabulary. "
   ]
  },
  {
   "cell_type": "code",
   "execution_count": 45,
   "metadata": {},
   "outputs": [],
   "source": [
    "from sklearn.feature_extraction.text import TfidfVectorizer"
   ]
  },
  {
   "cell_type": "code",
   "execution_count": 46,
   "metadata": {},
   "outputs": [
    {
     "data": {
      "text/plain": [
       "(<100000x17778 sparse matrix of type '<class 'numpy.float64'>'\n",
       " \twith 653252 stored elements in Compressed Sparse Row format>,\n",
       " <30000x17778 sparse matrix of type '<class 'numpy.float64'>'\n",
       " \twith 191099 stored elements in Compressed Sparse Row format>,\n",
       " <20000x17778 sparse matrix of type '<class 'numpy.float64'>'\n",
       " \twith 127133 stored elements in Compressed Sparse Row format>,\n",
       " {'draw': 4486,\n",
       "  'stacked': 14488,\n",
       "  'mysql': 10007,\n",
       "  'select': 13575,\n",
       "  'records': 12574,\n",
       "  'datetime': 3785,\n",
       "  'field': 5497,\n",
       "  'less': 8711,\n",
       "  'specified': 14351,\n",
       "  'value': 16640,\n",
       "  'mysql select': 10037,\n",
       "  'select records': 13610,\n",
       "  'datetime field': 3788,\n",
       "  'terminate': 15234,\n",
       "  'windows': 17343,\n",
       "  'phone': 11310,\n",
       "  '81': 162,\n",
       "  'app': 807,\n",
       "  'windows phone': 17364,\n",
       "  'phone 81': 11311,\n",
       "  '81 app': 163,\n",
       "  'get': 6331,\n",
       "  'current': 3426,\n",
       "  'time': 15411,\n",
       "  'specific': 14306,\n",
       "  'country': 3231,\n",
       "  'via': 16918,\n",
       "  'jquery': 8291,\n",
       "  'get current': 6361,\n",
       "  'current time': 3443,\n",
       "  'time specific': 15438,\n",
       "  'via jquery': 16931,\n",
       "  'configuring': 2844,\n",
       "  'tomcat': 15501,\n",
       "  'use': 16181,\n",
       "  'ssl': 14474,\n",
       "  'awesome': 1291,\n",
       "  'nested': 10163,\n",
       "  'set': 13877,\n",
       "  'plugin': 11586,\n",
       "  'add': 331,\n",
       "  'new': 10227,\n",
       "  'children': 2301,\n",
       "  'tree': 15576,\n",
       "  'various': 16872,\n",
       "  'levels': 8725,\n",
       "  'add new': 378,\n",
       "  'create': 3254,\n",
       "  'map': 9301,\n",
       "  'json': 8411,\n",
       "  'response': 12962,\n",
       "  'ruby': 13252,\n",
       "  'rails': 12331,\n",
       "  'json response': 8438,\n",
       "  'ruby rails': 13267,\n",
       "  'rspec': 13240,\n",
       "  'test': 15241,\n",
       "  'method': 9510,\n",
       "  'called': 1831,\n",
       "  'rspec test': 13243,\n",
       "  'test method': 15251,\n",
       "  'method called': 9518,\n",
       "  'springboot': 14406,\n",
       "  'lifecycle': 8749,\n",
       "  'exception': 5181,\n",
       "  'import': 7311,\n",
       "  'data': 3537,\n",
       "  'excel': 5164,\n",
       "  'database': 3651,\n",
       "  'using': 16310,\n",
       "  'php': 11323,\n",
       "  'import data': 7314,\n",
       "  'data excel': 3566,\n",
       "  'mysql database': 10015,\n",
       "  'database using': 3680,\n",
       "  'using php': 16483,\n",
       "  'obtaining': 10613,\n",
       "  'object': 10494,\n",
       "  'parameterized': 11045,\n",
       "  'type': 15731,\n",
       "  'without': 17414,\n",
       "  'constructing': 2937,\n",
       "  'class': 2340,\n",
       "  'ipad': 7806,\n",
       "  'selecting': 13649,\n",
       "  'text': 15264,\n",
       "  'inside': 7560,\n",
       "  'input': 7476,\n",
       "  'tap': 15173,\n",
       "  'selecting text': 13654,\n",
       "  'text inside': 15285,\n",
       "  'text input': 15284,\n",
       "  'jquerys': 8383,\n",
       "  'function': 6146,\n",
       "  'function object': 6196,\n",
       "  'eclipse': 4648,\n",
       "  'mingw': 9616,\n",
       "  'program': 11930,\n",
       "  'terminated': 15235,\n",
       "  'javascript': 8102,\n",
       "  'call': 1791,\n",
       "  'one': 10664,\n",
       "  'prototype': 12036,\n",
       "  'another': 698,\n",
       "  'javascript call': 8114,\n",
       "  'call one': 1808,\n",
       "  'prototype method': 12037,\n",
       "  'method another': 9514,\n",
       "  'intersection': 7736,\n",
       "  'list': 8866,\n",
       "  'sets': 13939,\n",
       "  'longer': 9113,\n",
       "  'able': 187,\n",
       "  'hide': 6892,\n",
       "  'keyboard': 8534,\n",
       "  'ios7': 7800,\n",
       "  'fetch': 5486,\n",
       "  'key': 8514,\n",
       "  'swift': 14990,\n",
       "  'json swift': 8446,\n",
       "  'change': 2075,\n",
       "  'pivot': 11536,\n",
       "  'header': 6818,\n",
       "  'template': 15210,\n",
       "  'connectionstring': 2896,\n",
       "  'encryption': 4844,\n",
       "  'let': 8716,\n",
       "  'ui': 15810,\n",
       "  'refresh': 12663,\n",
       "  'long': 9103,\n",
       "  'running': 13312,\n",
       "  'operation': 10805,\n",
       "  'long running': 9108,\n",
       "  'better': 1472,\n",
       "  'way': 17096,\n",
       "  'execute': 5217,\n",
       "  'file': 5531,\n",
       "  'python': 12112,\n",
       "  'console': 2905,\n",
       "  'output': 10881,\n",
       "  'run': 13282,\n",
       "  'better way': 1474,\n",
       "  'ruby file': 13262,\n",
       "  'file using': 5669,\n",
       "  'using python': 16497,\n",
       "  'python get': 12152,\n",
       "  'console output': 2910,\n",
       "  'file run': 5641,\n",
       "  'run python': 13304,\n",
       "  'make': 9223,\n",
       "  'thumbnails': 15401,\n",
       "  'codeigniter': 2570,\n",
       "  'java': 7906,\n",
       "  'character': 2155,\n",
       "  'vs': 17038,\n",
       "  'char': 2146,\n",
       "  'memory': 9454,\n",
       "  'usage': 16178,\n",
       "  'memory usage': 9468,\n",
       "  'bootstrap': 1582,\n",
       "  'modal': 9671,\n",
       "  'close': 2502,\n",
       "  'enter': 4876,\n",
       "  'press': 11795,\n",
       "  'bootstrap modal': 1590,\n",
       "  'enter key': 4877,\n",
       "  'key press': 8526,\n",
       "  'linq': 8837,\n",
       "  'query': 12267,\n",
       "  'group': 6719,\n",
       "  'retrieving': 13034,\n",
       "  'percentage': 11273,\n",
       "  'linq query': 8852,\n",
       "  'query group': 12274,\n",
       "  'label': 8577,\n",
       "  'issue': 7832,\n",
       "  'openerp': 10780,\n",
       "  'keep': 8500,\n",
       "  'objects': 10584,\n",
       "  'view': 16954,\n",
       "  'scaling': 13410,\n",
       "  'axis': 1299,\n",
       "  'attributeerror': 1211,\n",
       "  'nonetype': 10334,\n",
       "  'attribute': 1197,\n",
       "  'split': 14368,\n",
       "  'attributeerror nonetype': 1214,\n",
       "  'nonetype object': 10335,\n",
       "  'object attribute': 10499,\n",
       "  'append': 837,\n",
       "  'mat': 9351,\n",
       "  'replace': 12836,\n",
       "  'onclick': 10653,\n",
       "  'jquery replace': 8358,\n",
       "  'redirect': 12599,\n",
       "  'programme': 11950,\n",
       "  'redirect output': 12607,\n",
       "  'accesscontrolalloworigin': 257,\n",
       "  'present': 11790,\n",
       "  'requested': 12900,\n",
       "  'resource': 12945,\n",
       "  'error': 4936,\n",
       "  'accesscontrolalloworigin header': 258,\n",
       "  'requested resource': 12901,\n",
       "  'creating': 3315,\n",
       "  'cannot': 1867,\n",
       "  'implicitly': 7308,\n",
       "  'convert': 3061,\n",
       "  'string': 14671,\n",
       "  'creating json': 3328,\n",
       "  'windows using': 17371,\n",
       "  'cannot implicitly': 1889,\n",
       "  'implicitly convert': 7309,\n",
       "  'convert type': 3113,\n",
       "  'type string': 15772,\n",
       "  'django': 4323,\n",
       "  'modelform': 9707,\n",
       "  'django modelform': 4342,\n",
       "  'show': 14003,\n",
       "  'div': 4290,\n",
       "  'slide': 14160,\n",
       "  'show hide': 14013,\n",
       "  'hide div': 6894,\n",
       "  'div slide': 4310,\n",
       "  'javascript without': 8218,\n",
       "  'without jquery': 17436,\n",
       "  'avoid': 1285,\n",
       "  'busy': 1699,\n",
       "  'laravel': 8595,\n",
       "  'returns': 13098,\n",
       "  'ajax': 486,\n",
       "  'post': 11707,\n",
       "  'data ajax': 3539,\n",
       "  'ajax post': 505,\n",
       "  'handle': 6764,\n",
       "  'jquery ajax': 8294,\n",
       "  'year': 17734,\n",
       "  'retrofit': 13038,\n",
       "  'singleton': 14122,\n",
       "  'gson': 6731,\n",
       "  'using gson': 16394,\n",
       "  'cpp': 3239,\n",
       "  'mfc': 9592,\n",
       "  'copying': 3166,\n",
       "  'web': 17165,\n",
       "  'reference': 12632,\n",
       "  'project': 11961,\n",
       "  'web reference': 17182,\n",
       "  'new project': 10247,\n",
       "  'top': 15514,\n",
       "  'five': 5863,\n",
       "  'query select': 12290,\n",
       "  'insert': 7523,\n",
       "  'index': 7380,\n",
       "  'insert string': 7544,\n",
       "  'string specific': 14769,\n",
       "  'apache': 756,\n",
       "  'poi': 11603,\n",
       "  'page': 10937,\n",
       "  'format': 6025,\n",
       "  'worksheet': 17558,\n",
       "  'apache poi': 764,\n",
       "  'change page': 2111,\n",
       "  'excel worksheet': 5178,\n",
       "  'tkinter': 15474,\n",
       "  'progress': 11957,\n",
       "  'bar': 1350,\n",
       "  'python tkinter': 12219,\n",
       "  'progress bar': 11958,\n",
       "  'store': 14614,\n",
       "  'image': 7187,\n",
       "  'path': 11206,\n",
       "  'store image': 14620,\n",
       "  'image path': 7237,\n",
       "  'jdbc': 8234,\n",
       "  'connection': 2878,\n",
       "  'associated': 1160,\n",
       "  'managed': 9270,\n",
       "  'jdbc connection': 8235,\n",
       "  'connection error': 2883,\n",
       "  'multiple': 9848,\n",
       "  'tables': 15130,\n",
       "  'model': 9681,\n",
       "  'yii2': 17745,\n",
       "  'use multiple': 16219,\n",
       "  'multiple tables': 9925,\n",
       "  'tables one': 15133,\n",
       "  'one model': 10699,\n",
       "  'controller': 3029,\n",
       "  'names': 10101,\n",
       "  'aspnet': 1096,\n",
       "  'mvc4': 9999,\n",
       "  'aspnet mvc4': 1113,\n",
       "  'casting': 1999,\n",
       "  'integer': 7665,\n",
       "  'array': 933,\n",
       "  'integer array': 7666,\n",
       "  'array object': 1002,\n",
       "  'object array': 10497,\n",
       "  'array java': 986,\n",
       "  'getting': 6527,\n",
       "  'uploading': 16126,\n",
       "  'getting error': 6537,\n",
       "  'error uploading': 5058,\n",
       "  'uploading file': 16127,\n",
       "  'file php': 5629,\n",
       "  'clear': 2438,\n",
       "  'methods': 9581,\n",
       "  'methods java': 9583,\n",
       "  'printing': 11860,\n",
       "  'floats': 5903,\n",
       "  'number': 10428,\n",
       "  'zeros': 17762,\n",
       "  'specific number': 14331,\n",
       "  'simple': 14063,\n",
       "  'network': 10215,\n",
       "  'library': 8734,\n",
       "  'usr': 16580,\n",
       "  'bin': 1486,\n",
       "  'instead': 7642,\n",
       "  'local': 9020,\n",
       "  'running ruby': 13327,\n",
       "  'usr bin': 16581,\n",
       "  'usr local': 16582,\n",
       "  'bitmap': 1519,\n",
       "  'binary': 1488,\n",
       "  'operations': 10808,\n",
       "  'default': 3886,\n",
       "  'mail': 9195,\n",
       "  'working': 17523,\n",
       "  'entity': 4887,\n",
       "  'framework': 6088,\n",
       "  'distinct': 4282,\n",
       "  'entity framework': 4891,\n",
       "  'framework model': 6097,\n",
       "  'extjs': 5375,\n",
       "  'checked': 2261,\n",
       "  'nodes': 10321,\n",
       "  'submit': 14879,\n",
       "  'get checked': 6348,\n",
       "  'lists': 8936,\n",
       "  'linq select': 8853,\n",
       "  'nested lists': 10177,\n",
       "  'element': 4710,\n",
       "  'pass': 11127,\n",
       "  'values': 16749,\n",
       "  'html': 6973,\n",
       "  'hide element': 6896,\n",
       "  'pass values': 11155,\n",
       "  'values javascript': 16774,\n",
       "  'javascript html': 8154,\n",
       "  'html element': 6991,\n",
       "  'element using': 4734,\n",
       "  'using javascript': 16415,\n",
       "  'javascript jquery': 8161,\n",
       "  'information': 7424,\n",
       "  'dictionary': 4082,\n",
       "  'get information': 6401,\n",
       "  'slidetoggle': 14164,\n",
       "  'display': 4225,\n",
       "  'created': 3308,\n",
       "  'opencv': 10774,\n",
       "  'android': 621,\n",
       "  'display image': 4237,\n",
       "  'instantiating': 7639,\n",
       "  'namespace': 10102,\n",
       "  'wpf': 17569,\n",
       "  'screen': 13454,\n",
       "  'resolution': 12935,\n",
       "  'screen resolution': 13456,\n",
       "  'content': 2976,\n",
       "  'static': 14538,\n",
       "  'table': 15095,\n",
       "  'cell': 2031,\n",
       "  'displayed': 4266,\n",
       "  'ios': 7784,\n",
       "  'table view': 15128,\n",
       "  'view cell': 16960,\n",
       "  'best': 1460,\n",
       "  'autocomplete': 1249,\n",
       "  'suggest': 14935,\n",
       "  'algorithm': 528,\n",
       "  'datastructure': 3729,\n",
       "  'backbone': 1313,\n",
       "  'modelsave': 9711,\n",
       "  'sending': 13711,\n",
       "  'put': 12089,\n",
       "  'redirects': 12620,\n",
       "  'given': 6577,\n",
       "  'session': 13852,\n",
       "  'chrome': 2311,\n",
       "  'session php': 13865,\n",
       "  'mvc': 9970,\n",
       "  'razor': 12448,\n",
       "  'missing': 9633,\n",
       "  'collections': 2603,\n",
       "  'form': 5967,\n",
       "  'mvc razor': 9990,\n",
       "  'form post': 5999,\n",
       "  'date': 3740,\n",
       "  'ddmmyyyy': 3825,\n",
       "  'style': 14850,\n",
       "  'dynamically': 4599,\n",
       "  'linkbutton': 8821,\n",
       "  'affecting': 474,\n",
       "  'others': 10870,\n",
       "  'change style': 2119,\n",
       "  'dynamically created': 4610,\n",
       "  'check': 2197,\n",
       "  'point': 11607,\n",
       "  'line': 8767,\n",
       "  'client': 2476,\n",
       "  'request': 12872,\n",
       "  'fails': 5451,\n",
       "  'timeout': 15451,\n",
       "  'simultaneously': 14096,\n",
       "  'acquire': 283,\n",
       "  'update': 16063,\n",
       "  'graph': 6676,\n",
       "  'matplotlib': 9373,\n",
       "  'data update': 3638,\n",
       "  'graph using': 6678,\n",
       "  'python matplotlib': 12174,\n",
       "  'store value': 14626,\n",
       "  'value string': 16728,\n",
       "  'string array': 14675,\n",
       "  'datatable': 3730,\n",
       "  'inner': 7469,\n",
       "  'join': 8264,\n",
       "  'dynamic': 4563,\n",
       "  'columns': 2657,\n",
       "  'inner join': 7473,\n",
       "  'dynamic columns': 4569,\n",
       "  'correct': 3177,\n",
       "  'adapter': 329,\n",
       "  'pattern': 11225,\n",
       "  'objective': 10575,\n",
       "  'save': 13367,\n",
       "  'folder': 5917,\n",
       "  'save image': 13376,\n",
       "  'image another': 7190,\n",
       "  'another folder': 714,\n",
       "  'folder using': 5927,\n",
       "  'using ajax': 16312,\n",
       "  'ajax jquery': 498,\n",
       "  'use function': 16203,\n",
       "  'ignore': 7166,\n",
       "  'rows': 13216,\n",
       "  'sorting': 14267,\n",
       "  'specific rows': 14340,\n",
       "  'dom': 4419,\n",
       "  'angular': 659,\n",
       "  'directive': 4170,\n",
       "  'dom element': 4420,\n",
       "  'angular directive': 663,\n",
       "  'rectangles': 12583,\n",
       "  'next': 10275,\n",
       "  'parameters': 11048,\n",
       "  'url': 16140,\n",
       "  'zend': 17758,\n",
       "  'parameters url': 11054,\n",
       "  'inheritance': 7428,\n",
       "  'access': 215,\n",
       "  'problem': 11882,\n",
       "  'inner class': 7470,\n",
       "  'valueerror': 16747,\n",
       "  'match': 9352,\n",
       "  'passing': 11167,\n",
       "  'sockets': 14223,\n",
       "  'passing array': 11171,\n",
       "  'array json': 989,\n",
       "  'json objects': 8429,\n",
       "  'child': 2283,\n",
       "  'deserializing': 4004,\n",
       "  'xml': 17671,\n",
       "  'child nodes': 2290,\n",
       "  'deserializing xml': 4006,\n",
       "  'xml object': 17690,\n",
       "  'version': 16902,\n",
       "  'application': 859,\n",
       "  'executable': 5214,\n",
       "  'contains': 2968,\n",
       "  'unsupported': 16052,\n",
       "  'architecture': 902,\n",
       "  'i386': 7093,\n",
       "  'app version': 826,\n",
       "  'architecture i386': 903,\n",
       "  'com': 2668,\n",
       "  'array using': 1029,\n",
       "  'using com': 16344,\n",
       "  'urlopen': 16171,\n",
       "  'errno': 4933,\n",
       "  '10061': 12,\n",
       "  'error errno': 4976,\n",
       "  'unique': 15981,\n",
       "  'combination': 2672,\n",
       "  'bind': 1499,\n",
       "  'drop': 4510,\n",
       "  'first': 5837,\n",
       "  'ddl': 3824,\n",
       "  'drop list': 4513,\n",
       "  'list using': 8915,\n",
       "  'using jquery': 16421,\n",
       "  'change first': 2092,\n",
       "  '31': 95,\n",
       "  'encrypted': 4841,\n",
       "  'gem': 6276,\n",
       "  'clause': 2428,\n",
       "  'fields': 5518,\n",
       "  'rails 31': 12333,\n",
       "  'hack': 6757,\n",
       "  'google': 6629,\n",
       "  'maps': 9319,\n",
       "  'api': 770,\n",
       "  'generate': 6285,\n",
       "  'city': 2335,\n",
       "  'state': 14525,\n",
       "  'name': 10065,\n",
       "  'php mysql': 11413,\n",
       "  'google maps': 6642,\n",
       "  'maps api': 9320,\n",
       "  'city state': 2336,\n",
       "  'unknown': 16005,\n",
       "  'target': 15176,\n",
       "  'property': 11996,\n",
       "  'applet': 855,\n",
       "  'mac': 9173,\n",
       "  'os': 10863,\n",
       "  'run java': 13295,\n",
       "  'java applet': 7914,\n",
       "  'mac os': 9175,\n",
       "  'latitude': 8654,\n",
       "  'longitude': 9117,\n",
       "  'latitude longitude': 8655,\n",
       "  'mouseout': 9780,\n",
       "  'listener': 8929,\n",
       "  'wordpress': 17484,\n",
       "  'google map': 6641,\n",
       "  'find': 5747,\n",
       "  'row': 13183,\n",
       "  'quickly': 12313,\n",
       "  'find row': 5790,\n",
       "  'iphone': 7809,\n",
       "  'command': 2695,\n",
       "  'terminal': 15233,\n",
       "  'return': 13040,\n",
       "  'matrix': 9377,\n",
       "  'need': 10145,\n",
       "  'transpose': 15568,\n",
       "  'attach': 1182,\n",
       "  'dataframe': 3693,\n",
       "  'parent': 11058,\n",
       "  'programmatically': 11942,\n",
       "  'd3': 3525,\n",
       "  'js': 8387,\n",
       "  'tick': 15403,\n",
       "  'spacing': 14291,\n",
       "  'gets': 6522,\n",
       "  'messed': 9502,\n",
       "  'month': 9756,\n",
       "  'boundary': 1608,\n",
       "  'hash': 6797,\n",
       "  'object javascript': 10527,\n",
       "  'set timeout': 13928,\n",
       "  'user': 16256,\n",
       "  'fit': 5860,\n",
       "  'needs': 10154,\n",
       "  'change default': 2087,\n",
       "  'user model': 16280,\n",
       "  'serializing': 13775,\n",
       "  'automatically': 1267,\n",
       "  'install': 7603,\n",
       "  'firefox': 5828,\n",
       "  'navbar': 10127,\n",
       "  'auto': 1237,\n",
       "  'layout': 8662,\n",
       "  'constraints': 2934,\n",
       "  'interactive': 7699,\n",
       "  'interface': 7704,\n",
       "  'builder': 1681,\n",
       "  'auto layout': 1243,\n",
       "  'interface builder': 7706,\n",
       "  'kill': 8557,\n",
       "  'process': 11897,\n",
       "  'system': 15050,\n",
       "  'shell': 13983,\n",
       "  'child process': 2295,\n",
       "  'process running': 11904,\n",
       "  'shell command': 13984,\n",
       "  'setting': 13946,\n",
       "  'timezone': 15463,\n",
       "  'cant': 1917,\n",
       "  'recent': 12550,\n",
       "  'cant update': 1947,\n",
       "  'facebook': 5397,\n",
       "  'help': 6850,\n",
       "  'dialog': 4072,\n",
       "  'event': 5102,\n",
       "  'load': 8966,\n",
       "  'browsers': 1661,\n",
       "  'jquery event': 8324,\n",
       "  'event listener': 5119,\n",
       "  'image load': 7228,\n",
       "  'intellij': 7690,\n",
       "  'constant': 2922,\n",
       "  'expression': 5325,\n",
       "  'required': 12909,\n",
       "  'case': 1985,\n",
       "  'android java': 638,\n",
       "  'constant expression': 2925,\n",
       "  'dropdown': 4519,\n",
       "  'based': 1376,\n",
       "  'entries': 4897,\n",
       "  'dropdown select': 4525,\n",
       "  'select based': 13577,\n",
       "  'based database': 1384,\n",
       "  'wont': 17466,\n",
       "  'work': 17498,\n",
       "  'machine': 9177,\n",
       "  'wont work': 17473,\n",
       "  'local machine': 9027,\n",
       "  'pyqt': 12107,\n",
       "  'display data': 4230,\n",
       "  'data mysql': 3597,\n",
       "  'database table': 3677,\n",
       "  'table using': 15125,\n",
       "  'addeventlistener': 402,\n",
       "  'send': 13680,\n",
       "  'thread': 15361,\n",
       "  'send data': 13684,\n",
       "  'data specific': 3625,\n",
       "  'focus': 5912,\n",
       "  'listviewitem': 8950,\n",
       "  'documentgetelementbyid': 4388,\n",
       "  'innerhtml': 7474,\n",
       "  'ie8': 7145,\n",
       "  'working ie8': 17537,\n",
       "  'efficient': 4691,\n",
       "  'int': 7647,\n",
       "  'inverse': 7768,\n",
       "  'convert string': 3106,\n",
       "  'string int': 14728,\n",
       "  'edit': 4668,\n",
       "  'txt': 15729,\n",
       "  'specific line': 14328,\n",
       "  'line txt': 8789,\n",
       "  'txt file': 15730,\n",
       "  'conditionally': 2828,\n",
       "  'filter': 5733,\n",
       "  'iqueryable': 7822,\n",
       "  'generic': 6307,\n",
       "  'repository': 12865,\n",
       "  'type using': 15779,\n",
       "  'using generic': 16382,\n",
       "  'generic repository': 6319,\n",
       "  'repository pattern': 12866,\n",
       "  'get memory': 6425,\n",
       "  'rails app': 12342,\n",
       "  'invalid': 7745,\n",
       "  'indirect': 7408,\n",
       "  'trying': 15625,\n",
       "  'trying convert': 15631,\n",
       "  'convert java': 3085,\n",
       "  'record': 12568,\n",
       "  'insert multiple': 7535,\n",
       "  'record table': 12571,\n",
       "  'table codeigniter': 15100,\n",
       "  'sql': 14417,\n",
       "  'convert sql': 3104,\n",
       "  'sql query': 14433,\n",
       "  'query linq': 12278,\n",
       "  'password': 11194,\n",
       "  'prompt': 11980,\n",
       "  'regex': 12678,\n",
       "  'needed': 10153,\n",
       "  'dynamic string': 4586,\n",
       "  'string value': 14782,\n",
       "  'play': 11560,\n",
       "  'videos': 16952,\n",
       "  'website': 17229,\n",
       "  'best way': 1470,\n",
       "  'reading': 12507,\n",
       "  'stdin': 14580,\n",
       "  'blocking': 1548,\n",
       "  'reading line': 12515,\n",
       "  'line line': 8782,\n",
       "  'without blocking': 17418,\n",
       "  'video': 16942,\n",
       "  'old': 10644,\n",
       "  'rest': 12978,\n",
       "  'rest api': 12979,\n",
       "  'comma': 2691,\n",
       "  'separated': 13741,\n",
       "  'collection': 2596,\n",
       "  'spring': 14381,\n",
       "  'comma separated': 2693,\n",
       "  'separated string': 13745,\n",
       "  'string java': 14731,\n",
       "  'java collection': 7930,\n",
       "  'spring form': 14393,\n",
       "  'checking': 2269,\n",
       "  'member': 9440,\n",
       "  'struct': 14816,\n",
       "  'struct array': 14817,\n",
       "  'gridview': 6704,\n",
       "  'export': 5311,\n",
       "  'gridview data': 6708,\n",
       "  'export excel': 5314,\n",
       "  'tinymce': 15466,\n",
       "  'player': 11571,\n",
       "  'media': 9431,\n",
       "  'splash': 14365,\n",
       "  'accepts': 211,\n",
       "  'class use': 2403,\n",
       "  'use spring': 16239,\n",
       "  'csv': 3399,\n",
       "  'stringsplit': 14803,\n",
       "  'due': 4542,\n",
       "  'blank': 1532,\n",
       "  'import csv': 7313,\n",
       "  'csv file': 3401,\n",
       "  'li': 8727,\n",
       "  'ngmodel': 10292,\n",
       "  'start': 14510,\n",
       "  'blackberry': 1530,\n",
       "  'programming': 11952,\n",
       "  'searching': 13538,\n",
       "  'sdk': 13513,\n",
       "  'quick': 12309,\n",
       "  'iphone sdk': 7814,\n",
       "  'directory': 4176,\n",
       "  'directory name': 4182,\n",
       "  'column': 2627,\n",
       "  'odd': 10634,\n",
       "  'even': 5097,\n",
       "  'numbers': 10463,\n",
       "  'threads': 15376,\n",
       "  'odd even': 10635,\n",
       "  'even numbers': 5098,\n",
       "  'numbers using': 10473,\n",
       "  'using threads': 16547,\n",
       "  'alternatives': 586,\n",
       "  'projects': 11977,\n",
       "  'similar': 14061,\n",
       "  'joomla': 8276,\n",
       "  'drupal': 4538,\n",
       "  'assign': 1148,\n",
       "  'variable': 16805,\n",
       "  'properties': 11990,\n",
       "  'dynamic variable': 4595,\n",
       "  'dynamic object': 4585,\n",
       "  'get parameters': 6440,\n",
       "  'field value': 5515,\n",
       "  'value object': 16706,\n",
       "  'another object': 722,\n",
       "  'accessing': 262,\n",
       "  'global': 6594,\n",
       "  'onclicklistener': 10661,\n",
       "  'accessing global': 264,\n",
       "  'global variable': 6599,\n",
       "  'variable inside': 16823,\n",
       "  'argument': 912,\n",
       "  'uml': 15872,\n",
       "  'argument list': 915,\n",
       "  'preg_replace': 11775,\n",
       "  'curly': 3421,\n",
       "  'brackets': 1628,\n",
       "  '323': 101,\n",
       "  'bundler': 1694,\n",
       "  'could': 3193,\n",
       "  'compatible': 2744,\n",
       "  'versions': 16911,\n",
       "  'rails 323': 12335,\n",
       "  'could find': 3201,\n",
       "  'exe': 5210,\n",
       "  'windows form': 17356,\n",
       "  'junit': 8485,\n",
       "  'report': 12857,\n",
       "  'task': 15180,\n",
       "  'facebooks': 5416,\n",
       "  'sms': 14183,\n",
       "  'broadcast': 1641,\n",
       "  'receiver': 12546,\n",
       "  'takes': 15165,\n",
       "  'highest': 6911,\n",
       "  'priority': 11867,\n",
       "  'reboot': 12539,\n",
       "  'length': 8703,\n",
       "  'bypass': 1750,\n",
       "  'clientside': 2492,\n",
       "  'validation': 16621,\n",
       "  'clientside validation': 2493,\n",
       "  'rvm': 13344,\n",
       "  'installation': 7612,\n",
       "  'ubuntu': 15801,\n",
       "  'installation error': 7613,\n",
       "  'error ubuntu': 5050,\n",
       "  'trigger': 15593,\n",
       "  'carousel': 1975,\n",
       "  'trigger event': 15596,\n",
       "  'bootstrap carousel': 1584,\n",
       "  'proxy': 12047,\n",
       "  'configuration': 2835,\n",
       "  'unable': 15873,\n",
       "  'string variable': 14784,\n",
       "  'variable string': 16843,\n",
       "  'string javascript': 14732,\n",
       "  'redirecttoaction': 12621,\n",
       "  'cant get': 1931,\n",
       "  'iterators': 7879,\n",
       "  'incompatible': 7356,\n",
       "  'destruction': 4021,\n",
       "  'dependent': 3973,\n",
       "  'constructor': 2939,\n",
       "  'constructor call': 2940,\n",
       "  'bad': 1340,\n",
       "  'input line': 7498,\n",
       "  'symfony2': 15024,\n",
       "  'forms': 6055,\n",
       "  'options': 10831,\n",
       "  'use dynamic': 16198,\n",
       "  'select options': 13607,\n",
       "  'notfoundhttpexception': 10363,\n",
       "  'submission': 14878,\n",
       "  'handling': 6778,\n",
       "  'django ajax': 4328,\n",
       "  'validation multiple': 16631,\n",
       "  'multiple forms': 9875,\n",
       "  'triggers': 15602,\n",
       "  'oracle': 10834,\n",
       "  'mongoose': 9750,\n",
       "  'callback': 1825,\n",
       "  'access specific': 244,\n",
       "  'specific value': 14346,\n",
       "  'well': 17263,\n",
       "  'updating': 16096,\n",
       "  'models': 9708,\n",
       "  'canvas': 1950,\n",
       "  'issues': 7836,\n",
       "  'comparison': 2741,\n",
       "  'variables': 16851,\n",
       "  'pointing': 11625,\n",
       "  'parse': 11077,\n",
       "  'parse json': 11083,\n",
       "  'json data': 8414,\n",
       "  'data php': 3604,\n",
       "  'possible': 11690,\n",
       "  'jump': 8483,\n",
       "  'top page': 15518,\n",
       "  'page form': 10951,\n",
       "  'form submit': 6006,\n",
       "  'safely': 13356,\n",
       "  'destroy': 4019,\n",
       "  'window': 17315,\n",
       "  'wxpython': 17641,\n",
       "  'includes': 7352,\n",
       "  'systems': 15078,\n",
       "  'php includes': 11391,\n",
       "  'managepy': 9273,\n",
       "  'runserver': 13335,\n",
       "  'managepy runserver': 9274,\n",
       "  'saving': 13389,\n",
       "  'frames': 6087,\n",
       "  'saving multiple': 13397,\n",
       "  'multiple data': 9864,\n",
       "  'data frames': 3573,\n",
       "  'return function': 13050,\n",
       "  'compilation': 2745,\n",
       "  'found': 6071,\n",
       "  'compilation error': 2746,\n",
       "  'error type': 5048,\n",
       "  'type namespace': 15762,\n",
       "  'namespace name': 10104,\n",
       "  'could found': 3202,\n",
       "  'parsecom': 11087,\n",
       "  'libgdx': 8731,\n",
       "  'implementation': 7297,\n",
       "  'iframe': 7153,\n",
       "  'position': 11679,\n",
       "  'adding': 404,\n",
       "  'javascript adding': 8105,\n",
       "  'adding text': 425,\n",
       "  'text image': 15283,\n",
       "  'image using': 7262,\n",
       "  'using canvas': 16335,\n",
       "  'save value': 13382,\n",
       "  'value drop': 16668,\n",
       "  'calculate': 1774,\n",
       "  'correlation': 3183,\n",
       "  'remove': 12759,\n",
       "  'ones': 10730,\n",
       "  'pandas': 11003,\n",
       "  'python pandas': 12188,\n",
       "  'optimizations': 10819,\n",
       "  'browser': 1646,\n",
       "  'perform': 11277,\n",
       "  'rendered': 12820,\n",
       "  'denied': 3962,\n",
       "  'service': 13823,\n",
       "  'delegate': 3923,\n",
       "  'mail client': 9198,\n",
       "  'client using': 2488,\n",
       "  'count': 3216,\n",
       "  'datagridview': 3708,\n",
       "  'values column': 16755,\n",
       "  'column datagridview': 2636,\n",
       "  'datagridview column': 3711,\n",
       "  'scipy': 13438,\n",
       "  'build': 1675,\n",
       "  'osx': 10868,\n",
       "  'mac osx': 9176,\n",
       "  'ip': 7803,\n",
       "  'address': 431,\n",
       "  'mask': 9343,\n",
       "  'textbox': 15320,\n",
       "  'ip address': 7804,\n",
       "  'vbnet': 16880,\n",
       "  'commands': 2709,\n",
       "  'java library': 7982,\n",
       "  'selected': 13626,\n",
       "  'codebehind': 2564,\n",
       "  'get selected': 6471,\n",
       "  'selected value': 13642,\n",
       "  'value text': 16730,\n",
       "  'text html': 15282,\n",
       "  'html select': 7015,\n",
       "  'restrict': 12998,\n",
       "  'jqgrid': 8290,\n",
       "  'textarea': 15315,\n",
       "  'height': 6839,\n",
       "  'grid': 6695,\n",
       "  'editor': 4678,\n",
       "  'serialization': 13765,\n",
       "  'xml serialization': 17698,\n",
       "  'extend': 5343,\n",
       "  'java class': 7926,\n",
       "  'class one': 2388,\n",
       "  'exceptions': 5201,\n",
       "  'guidelines': 6749,\n",
       "  'understand': 15943,\n",
       "  'testng': 15260,\n",
       "  'suite': 14940,\n",
       "  'configure': 2842,\n",
       "  'webpage': 17218,\n",
       "  'excel data': 5168,\n",
       "  'parameter': 11024,\n",
       "  'owin': 10926,\n",
       "  'host': 6941,\n",
       "  'pass parameter': 11147,\n",
       "  'saved': 13386,\n",
       "  'rake': 12401,\n",
       "  'errors': 5069,\n",
       "  'loading': 9004,\n",
       "  'kind': 8561,\n",
       "  'mutex': 9967,\n",
       "  'calculation': 1786,\n",
       "  'entities': 4884,\n",
       "  'linq entities': 8840,\n",
       "  'entities query': 4885,\n",
       "  'difference': 4101,\n",
       "  'difference ruby': 4107,\n",
       "  'cocos2dx': 2533,\n",
       "  'lua': 9163,\n",
       "  'binding': 1504,\n",
       "  'reset': 12921,\n",
       "  'angularjs': 671,\n",
       "  'verify': 16899,\n",
       "  'box': 1614,\n",
       "  'clicked': 2467,\n",
       "  'check box': 2199,\n",
       "  'structure': 14822,\n",
       "  'pointer': 11611,\n",
       "  'dll': 4364,\n",
       "  'pausing': 11232,\n",
       "  'milliseconds': 9610,\n",
       "  'method set': 9564,\n",
       "  'call javascript': 1803,\n",
       "  'params': 11057,\n",
       "  'requests': 12906,\n",
       "  'python requests': 12202,\n",
       "  'highlighting': 6917,\n",
       "  'visual': 17022,\n",
       "  'studio': 14837,\n",
       "  'visual studio': 17025,\n",
       "  'email': 4771,\n",
       "  'component': 2782,\n",
       "  'versus': 16912,\n",
       "  'phpmailer': 11494,\n",
       "  'cakephp': 1771,\n",
       "  'include': 7341,\n",
       "  'files': 5694,\n",
       "  'correctly': 3182,\n",
       "  'include header': 7343,\n",
       "  'header files': 6821,\n",
       "  'development': 4056,\n",
       "  'php api': 11334,\n",
       "  'uiimageview': 15832,\n",
       "  'size': 14135,\n",
       "  'programmatically swift': 11949,\n",
       "  'file html': 5591,\n",
       "  ...})"
      ]
     },
     "execution_count": 46,
     "metadata": {},
     "output_type": "execute_result"
    }
   ],
   "source": [
    "def tfidf_features(X_train, X_val, X_test):\n",
    "    \"\"\"\n",
    "        X_train, X_val, X_test — samples        \n",
    "        return TF-IDF vectorized representation of each sample and vocabulary\n",
    "    \"\"\"\n",
    "    # Create TF-IDF vectorizer with a proper parameters choice\n",
    "    # Fit the vectorizer on the train set\n",
    "    # Transform the train, test, and val sets and return the result\n",
    "    tfidf_vectorizer = TfidfVectorizer(min_df = 5, max_df = 0.9, ngram_range = (1, 2))####### YOUR CODE HERE #######\n",
    "    features = tfidf_vectorizer.fit(X_train)\n",
    "    X_train = tfidf_vectorizer.transform(X_train)\n",
    "    X_val = tfidf_vectorizer.transform(X_val)\n",
    "    X_test = tfidf_vectorizer.transform(X_test)\n",
    "    ######################################\n",
    "    ######### YOUR CODE HERE #############\n",
    "    ######################################\n",
    "    \n",
    "    return X_train, X_val, X_test, tfidf_vectorizer.vocabulary_\n",
    "\n",
    "tfidf_features(X_train, X_val, X_test)"
   ]
  },
  {
   "cell_type": "markdown",
   "metadata": {},
   "source": [
    "Once you have done text preprocessing, always have a look at the results. Be very careful at this step, because the performance of future models will drastically depend on it. \n",
    "\n",
    "In this case, check whether you have c++ or c# in your vocabulary, as they are obviously important tokens in our tags prediction task:"
   ]
  },
  {
   "cell_type": "code",
   "execution_count": 47,
   "metadata": {},
   "outputs": [],
   "source": [
    "X_train_tfidf, X_val_tfidf, X_test_tfidf, tfidf_vocab = tfidf_features(X_train, X_val, X_test)\n",
    "tfidf_reversed_vocab = {i:word for word,i in tfidf_vocab.items()}"
   ]
  },
  {
   "cell_type": "code",
   "execution_count": 48,
   "metadata": {},
   "outputs": [
    {
     "name": "stdout",
     "output_type": "stream",
     "text": [
      "no\n",
      "no\n"
     ]
    }
   ],
   "source": [
    "######### YOUR CODE HERE #############\n",
    "s = \"c++\"\n",
    "if s in tfidf_vocab.keys():\n",
    "    print(\"yes\")\n",
    "else: print (\"no\")\n",
    "if \"c#\" in tfidf_vocab.keys():\n",
    "    print(\"yes\")\n",
    "else: print (\"no\")"
   ]
  },
  {
   "cell_type": "markdown",
   "metadata": {},
   "source": [
    "If you can't find it, we need to understand how did it happen that we lost them? It happened during the built-in tokenization of TfidfVectorizer. Luckily, we can influence on this process. Get back to the function above and use '(\\S+)' regexp as a *token_pattern* in the constructor of the vectorizer.  "
   ]
  },
  {
   "cell_type": "markdown",
   "metadata": {},
   "source": [
    "Now, use this transormation for the data and check again."
   ]
  },
  {
   "cell_type": "code",
   "execution_count": 49,
   "metadata": {},
   "outputs": [
    {
     "name": "stdout",
     "output_type": "stream",
     "text": [
      "yes\n",
      "yes\n"
     ]
    }
   ],
   "source": [
    "######### YOUR CODE HERE #############\n",
    "def tfidf_features(X_train, X_val, X_test):\n",
    "    \"\"\"\n",
    "        X_train, X_val, X_test — samples        \n",
    "        return TF-IDF vectorized representation of each sample and vocabulary\n",
    "    \"\"\"\n",
    "    # Create TF-IDF vectorizer with a proper parameters choice\n",
    "    # Fit the vectorizer on the train set\n",
    "    # Transform the train, test, and val sets and return the result\n",
    "    tfidf_vectorizer = TfidfVectorizer(min_df = 5, max_df = 0.9, ngram_range = (1, 2), token_pattern =  '(\\S+)')####### YOUR CODE HERE #######\n",
    "\n",
    "    ######################################\n",
    "    ######### YOUR CODE HERE #############\n",
    "    ######################################\n",
    "    features = tfidf_vectorizer.fit(X_train)\n",
    "    X_train = tfidf_vectorizer.transform(X_train)\n",
    "    X_val = tfidf_vectorizer.transform(X_val)\n",
    "    X_test = tfidf_vectorizer.transform(X_test)\n",
    "        \n",
    "    \n",
    "    return X_train, X_val, X_test, tfidf_vectorizer.vocabulary_\n",
    "\n",
    "X_train_tfidf, X_val_tfidf, X_test_tfidf, tfidf_vocab = tfidf_features(X_train, X_val, X_test)\n",
    "tfidf_reversed_vocab = {i:word for word,i in tfidf_vocab.items()}\n",
    "\n",
    "s = \"c++\"\n",
    "if s in tfidf_vocab.keys():\n",
    "    print(\"yes\")\n",
    "else: print (\"no\")\n",
    "if \"c#\" in tfidf_vocab.keys():\n",
    "    print(\"yes\")\n",
    "else: print (\"no\")"
   ]
  },
  {
   "cell_type": "markdown",
   "metadata": {},
   "source": [
    "### MultiLabel classifier\n",
    "\n",
    "As we have noticed before, in this task each example can have multiple tags. To deal with such kind of prediction, we need to transform labels in a binary form and the prediction will be a mask of 0s and 1s. For this purpose it is convenient to use [MultiLabelBinarizer](http://scikit-learn.org/stable/modules/generated/sklearn.preprocessing.MultiLabelBinarizer.html) from *sklearn*."
   ]
  },
  {
   "cell_type": "code",
   "execution_count": 50,
   "metadata": {},
   "outputs": [],
   "source": [
    "from sklearn.preprocessing import MultiLabelBinarizer"
   ]
  },
  {
   "cell_type": "code",
   "execution_count": 51,
   "metadata": {},
   "outputs": [
    {
     "name": "stdout",
     "output_type": "stream",
     "text": [
      "['javascript']\n",
      "[0, 0, 0, 0, 0, 0, 0, 0, 0, 0, 0, 0, 0, 0, 0, 0, 0, 0, 0, 0, 0, 0, 0, 0, 0, 0, 0, 0, 0, 0, 0, 0, 0, 0, 0, 0, 0, 0, 1, 0, 0, 0, 0, 0, 0, 0, 0, 0, 0, 0, 0, 0, 0, 0, 0, 0, 0, 0, 0, 0, 0, 0, 0, 0, 0, 0, 0, 0, 0, 0, 0, 0, 0, 0, 0, 0, 0, 0, 0, 0, 0, 0, 0, 0, 0, 0, 0, 0, 0, 0, 0, 0, 0, 0, 0, 0, 0, 0, 0, 0]\n"
     ]
    }
   ],
   "source": [
    "mlb = MultiLabelBinarizer(classes=sorted(tags_counts.keys()))\n",
    "ytrain = mlb.fit_transform(y_train)\n",
    "print (list(y_val[1]))\n",
    "yval = mlb.fit_transform(y_val)\n",
    "print(list(yval[1]))"
   ]
  },
  {
   "cell_type": "markdown",
   "metadata": {},
   "source": [
    "Implement the function *train_classifier* for training a classifier. In this task we suggest to use One-vs-Rest approach, which is implemented in [OneVsRestClassifier](http://scikit-learn.org/stable/modules/generated/sklearn.multiclass.OneVsRestClassifier.html) class. In this approach *k* classifiers (= number of tags) are trained. As a basic classifier, use [LogisticRegression](http://scikit-learn.org/stable/modules/generated/sklearn.linear_model.LogisticRegression.html). It is one of the simplest methods, but often it performs good enough in text classification tasks. It might take some time, because a number of classifiers to train is large."
   ]
  },
  {
   "cell_type": "code",
   "execution_count": 53,
   "metadata": {},
   "outputs": [
    {
     "name": "stdout",
     "output_type": "stream",
     "text": [
      "[0, 0, 0, 0, 0, 0, 0, 0, 0, 0, 0, 0, 0, 0, 0, 0, 0, 0, 0, 0, 0, 0, 0, 0, 0, 0, 0, 0, 0, 0, 0, 0, 0, 0, 0, 0, 0, 0, 0, 0, 0, 0, 0, 0, 0, 0, 0, 0, 0, 0, 1, 0, 0, 0, 0, 0, 0, 0, 0, 0, 1, 0, 0, 0, 0, 0, 0, 0, 0, 0, 0, 0, 0, 0, 0, 0, 0, 0, 0, 0, 0, 0, 0, 0, 0, 0, 0, 0, 0, 0, 0, 0, 0, 0, 0, 0, 0, 0, 0, 0]\n"
     ]
    }
   ],
   "source": [
    "from sklearn.multiclass import OneVsRestClassifier\n",
    "from sklearn.linear_model import LogisticRegression, RidgeClassifier\n",
    "print (list(ytrain[1]))"
   ]
  },
  {
   "cell_type": "code",
   "execution_count": 61,
   "metadata": {},
   "outputs": [
    {
     "name": "stdout",
     "output_type": "stream",
     "text": [
      "100000 100000\n",
      "mysql select records datetime field less specified value\n"
     ]
    }
   ],
   "source": [
    "def train_classifier(X_train, y_train):\n",
    "    \"\"\"\n",
    "      X_train, y_train — training data\n",
    "      \n",
    "      return: trained classifier\n",
    "    \"\"\"\n",
    "    clf = OneVsRestClassifier(LogisticRegression(max_iter = 1000)).fit(X_train, y_train)\n",
    "    return clf\n",
    "    # Create and fit LogisticRegression wraped into OneVsRestClassifier.\n",
    "print ( len(X_train_mybag.toarray()), len(ytrain))\n",
    "print (X_train[1])\n",
    "    ######################################\n",
    "    ######### YOUR CODE HERE #############\n",
    "    ######################################    "
   ]
  },
  {
   "cell_type": "markdown",
   "metadata": {},
   "source": [
    "Train the classifiers for different data transformations: *bag-of-words* and *tf-idf*."
   ]
  },
  {
   "cell_type": "code",
   "execution_count": 64,
   "metadata": {},
   "outputs": [],
   "source": [
    "#print(list(X_train_mybag[1]))\n",
    "classifier_mybag = train_classifier(X_train_mybag, ytrain)\n",
    "classifier_tfidf = train_classifier(X_train_tfidf, ytrain)"
   ]
  },
  {
   "cell_type": "markdown",
   "metadata": {},
   "source": [
    "Now you can create predictions for the data. You will need two types of predictions: labels and scores."
   ]
  },
  {
   "cell_type": "code",
   "execution_count": 65,
   "metadata": {},
   "outputs": [],
   "source": [
    "y_val_predicted_labels_mybag = classifier_mybag.predict(X_val_mybag)\n",
    "y_val_predicted_scores_mybag = classifier_mybag.decision_function(X_val_mybag)\n",
    "\n",
    "y_val_predicted_labels_tfidf = classifier_tfidf.predict(X_val_tfidf)\n",
    "y_val_predicted_scores_tfidf = classifier_tfidf.decision_function(X_val_tfidf)"
   ]
  },
  {
   "cell_type": "markdown",
   "metadata": {},
   "source": [
    "Now take a look at how classifier, which uses TF-IDF, works for a few examples:"
   ]
  },
  {
   "cell_type": "code",
   "execution_count": 67,
   "metadata": {},
   "outputs": [
    {
     "name": "stdout",
     "output_type": "stream",
     "text": [
      "Title:\todbc_exec always fail\n",
      "True labels:\tphp,sql\n",
      "Predicted labels:\t\n",
      "\n",
      "\n",
      "Title:\taccess base classes variable within child class\n",
      "True labels:\tjavascript\n",
      "Predicted labels:\t\n",
      "\n",
      "\n",
      "Title:\tcontenttype application json required rails\n",
      "True labels:\truby,ruby-on-rails\n",
      "Predicted labels:\tjson,ruby-on-rails\n",
      "\n",
      "\n"
     ]
    }
   ],
   "source": [
    "y_val_pred_inversed = mlb.inverse_transform(y_val_predicted_labels_tfidf)\n",
    "y_val_inversed = mlb.inverse_transform(yval)\n",
    "for i in range(3):\n",
    "    print('Title:\\t{}\\nTrue labels:\\t{}\\nPredicted labels:\\t{}\\n\\n'.format(\n",
    "        X_val[i],\n",
    "        ','.join(y_val_inversed[i]),\n",
    "        ','.join(y_val_pred_inversed[i])\n",
    "    ))"
   ]
  },
  {
   "cell_type": "markdown",
   "metadata": {},
   "source": [
    "Now, we would need to compare the results of different predictions, e.g. to see whether TF-IDF transformation helps or to try different regularization techniques in logistic regression. For all these experiments, we need to setup evaluation procedure. "
   ]
  },
  {
   "cell_type": "markdown",
   "metadata": {},
   "source": [
    "### Evaluation\n",
    "\n",
    "To evaluate the results we will use several classification metrics:\n",
    " - [Accuracy](http://scikit-learn.org/stable/modules/generated/sklearn.metrics.accuracy_score.html)\n",
    " - [F1-score](http://scikit-learn.org/stable/modules/generated/sklearn.metrics.f1_score.html)\n",
    " - [Area under ROC-curve](http://scikit-learn.org/stable/modules/generated/sklearn.metrics.roc_auc_score.html)\n",
    " - [Area under precision-recall curve](http://scikit-learn.org/stable/modules/generated/sklearn.metrics.average_precision_score.html#sklearn.metrics.average_precision_score) \n",
    " \n",
    "Make sure you are familiar with all of them. How would you expect the things work for the multi-label scenario? Read about micro/macro/weighted averaging following the sklearn links provided above."
   ]
  },
  {
   "cell_type": "code",
   "execution_count": null,
   "metadata": {
    "collapsed": true
   },
   "outputs": [],
   "source": [
    "from sklearn.metrics import accuracy_score\n",
    "from sklearn.metrics import f1_score\n",
    "from sklearn.metrics import roc_auc_score \n",
    "from sklearn.metrics import average_precision_score\n",
    "from sklearn.metrics import recall_score"
   ]
  },
  {
   "cell_type": "markdown",
   "metadata": {},
   "source": [
    "Implement the function *print_evaluation_scores* which calculates and prints to stdout:\n",
    " - *accuracy*\n",
    " - *F1-score macro/micro/weighted*\n",
    " - *Precision macro/micro/weighted*"
   ]
  },
  {
   "cell_type": "code",
   "execution_count": null,
   "metadata": {
    "collapsed": true
   },
   "outputs": [],
   "source": [
    "def print_evaluation_scores(y_val, predicted):\n",
    "    \n",
    "    ######################################\n",
    "    ######### YOUR CODE HERE #############\n",
    "    ######################################"
   ]
  },
  {
   "cell_type": "code",
   "execution_count": null,
   "metadata": {
    "collapsed": true
   },
   "outputs": [],
   "source": [
    "print('Bag-of-words')\n",
    "print_evaluation_scores(y_val, y_val_predicted_labels_mybag)\n",
    "print('Tfidf')\n",
    "print_evaluation_scores(y_val, y_val_predicted_labels_tfidf)"
   ]
  },
  {
   "cell_type": "markdown",
   "metadata": {},
   "source": [
    "You might also want to plot some generalization of the [ROC curve](http://scikit-learn.org/stable/modules/model_evaluation.html#receiver-operating-characteristic-roc) for the case of multi-label classification. Provided function *roc_auc* can make it for you. The input parameters of this function are:\n",
    " - true labels\n",
    " - decision functions scores\n",
    " - number of classes"
   ]
  },
  {
   "cell_type": "code",
   "execution_count": null,
   "metadata": {
    "collapsed": true
   },
   "outputs": [],
   "source": [
    "from metrics import roc_auc\n",
    "%matplotlib inline"
   ]
  },
  {
   "cell_type": "code",
   "execution_count": null,
   "metadata": {
    "collapsed": true
   },
   "outputs": [],
   "source": [
    "n_classes = len(tags_counts)\n",
    "roc_auc(y_val, y_val_predicted_scores_mybag, n_classes)"
   ]
  },
  {
   "cell_type": "code",
   "execution_count": null,
   "metadata": {
    "collapsed": true
   },
   "outputs": [],
   "source": [
    "n_classes = len(tags_counts)\n",
    "roc_auc(y_val, y_val_predicted_scores_tfidf, n_classes)"
   ]
  },
  {
   "cell_type": "markdown",
   "metadata": {},
   "source": [
    "**Task 4 (MultilabelClassification).** Once we have the evaluation set up, we suggest that you experiment a bit with training your classifiers. We will use *F1-score weighted* as an evaluation metric. Our recommendation:\n",
    "- compare the quality of the bag-of-words and TF-IDF approaches and chose one of them.\n",
    "- for the chosen one, try *L1* and *L2*-regularization techniques in Logistic Regression with different coefficients (e.g. C equal to 0.1, 1, 10, 100).\n",
    "\n",
    "You also could try other improvements of the preprocessing / model, if you want. "
   ]
  },
  {
   "cell_type": "code",
   "execution_count": 94,
   "metadata": {},
   "outputs": [],
   "source": [
    "######################################\n",
    "######### YOUR CODE HERE #############\n",
    "######################################\n",
    "def train_classifier(X_train, y_train):\n",
    "    \"\"\"\n",
    "      X_train, y_train — training data\n",
    "      \n",
    "      return: trained classifier\n",
    "    \"\"\"\n",
    "    clf = OneVsRestClassifier(LogisticRegression(max_iter = 1000, solver = 'saga' , penalty='elasticnet', l1_ratio=0.5)).fit(X_train, y_train)\n",
    "    return clf"
   ]
  },
  {
   "cell_type": "markdown",
   "metadata": {},
   "source": [
    "When you are happy with the quality, create predictions for *test* set, which you will submit to Coursera."
   ]
  },
  {
   "cell_type": "code",
   "execution_count": null,
   "metadata": {},
   "outputs": [],
   "source": [
    "test_predictions = train_classifier(X_train_mybag, ytrain).predict(X_test_mybag)         ######### YOUR CODE HERE #############\n",
    "test_pred_inversed = mlb.inverse_transform(test_predictions)\n",
    "\n",
    "test_predictions_for_submission = '\\n'.join('%i\\t%s' % (i, ','.join(row)) for i, row in enumerate(test_pred_inversed))\n",
    "grader.submit_tag('MultilabelClassification', test_predictions_for_submission)\n",
    "print(X_test[2])"
   ]
  },
  {
   "cell_type": "markdown",
   "metadata": {},
   "source": [
    "### Analysis of the most important features"
   ]
  },
  {
   "cell_type": "markdown",
   "metadata": {},
   "source": [
    "Finally, it is usually a good idea to look at the features (words or n-grams) that are used with the largest weigths in your logistic regression model."
   ]
  },
  {
   "cell_type": "markdown",
   "metadata": {},
   "source": [
    "Implement the function *print_words_for_tag* to find them. Get back to sklearn documentation on [OneVsRestClassifier](http://scikit-learn.org/stable/modules/generated/sklearn.multiclass.OneVsRestClassifier.html) and [LogisticRegression](http://scikit-learn.org/stable/modules/generated/sklearn.linear_model.LogisticRegression.html) if needed."
   ]
  },
  {
   "cell_type": "code",
   "execution_count": null,
   "metadata": {
    "collapsed": true
   },
   "outputs": [],
   "source": [
    "def print_words_for_tag(classifier, tag, tags_classes, index_to_words, all_words):\n",
    "    \"\"\"\n",
    "        classifier: trained classifier\n",
    "        tag: particular tag\n",
    "        tags_classes: a list of classes names from MultiLabelBinarizer\n",
    "        index_to_words: index_to_words transformation\n",
    "        all_words: all words in the dictionary\n",
    "        \n",
    "        return nothing, just print top 5 positive and top 5 negative words for current tag\n",
    "    \"\"\"\n",
    "    print('Tag:\\t{}'.format(tag))\n",
    "    \n",
    "    # Extract an estimator from the classifier for the given tag.\n",
    "    # Extract feature coefficients from the estimator. \n",
    "    \n",
    "    ######################################\n",
    "    ######### YOUR CODE HERE #############\n",
    "    ######################################\n",
    "    \n",
    "    top_positive_words = # top-5 words sorted by the coefficiens.\n",
    "    top_negative_words = # bottom-5 words  sorted by the coefficients.\n",
    "    print('Top positive words:\\t{}'.format(', '.join(top_positive_words)))\n",
    "    print('Top negative words:\\t{}\\n'.format(', '.join(top_negative_words)))"
   ]
  },
  {
   "cell_type": "code",
   "execution_count": null,
   "metadata": {
    "collapsed": true
   },
   "outputs": [],
   "source": [
    "print_words_for_tag(classifier_tfidf, 'c', mlb.classes, tfidf_reversed_vocab, ALL_WORDS)\n",
    "print_words_for_tag(classifier_tfidf, 'c++', mlb.classes, tfidf_reversed_vocab, ALL_WORDS)\n",
    "print_words_for_tag(classifier_tfidf, 'linux', mlb.classes, tfidf_reversed_vocab, ALL_WORDS)"
   ]
  },
  {
   "cell_type": "markdown",
   "metadata": {},
   "source": [
    "### Authorization & Submission\n",
    "To submit assignment parts to Cousera platform, please, enter your e-mail and token into variables below. You can generate token on this programming assignment page. <b>Note:</b> Token expires 30 minutes after generation."
   ]
  },
  {
   "cell_type": "code",
   "execution_count": 75,
   "metadata": {},
   "outputs": [
    {
     "name": "stdout",
     "output_type": "stream",
     "text": [
      "You want to submit these parts:\n",
      "Task TextPrepare:\n",
      " sqlite php readonly\n",
      "creating multiple textboxes dynamically\n",
      "self one prefer javascript\n",
      "save php date...\n",
      "Task WordsTagsCount:\n",
      " javascript,c#,java\n",
      "using,php,java...\n",
      "Task BagOfWords:\n",
      " 7...\n",
      "Task MultilabelClassification:\n",
      " 0\tphp\n",
      "1\tjavascript,jquery\n",
      "2\t\n",
      "3\tjavascript,jquery\n",
      "4\tandroid,java\n",
      "5\tphp,xml\n",
      "6\tjson\n",
      "7\tjava\n",
      "8\tpython\n",
      "9\th...\n"
     ]
    }
   ],
   "source": [
    "grader.status()"
   ]
  },
  {
   "cell_type": "code",
   "execution_count": 76,
   "metadata": {},
   "outputs": [
    {
     "name": "stdout",
     "output_type": "stream",
     "text": [
      "You want to submit these parts:\n",
      "Task TextPrepare:\n",
      " sqlite php readonly\n",
      "creating multiple textboxes dynamically\n",
      "self one prefer javascript\n",
      "save php date...\n",
      "Task WordsTagsCount:\n",
      " javascript,c#,java\n",
      "using,php,java...\n",
      "Task BagOfWords:\n",
      " 7...\n",
      "Task MultilabelClassification:\n",
      " 0\tphp\n",
      "1\tjavascript,jquery\n",
      "2\t\n",
      "3\tjavascript,jquery\n",
      "4\tandroid,java\n",
      "5\tphp,xml\n",
      "6\tjson\n",
      "7\tjava\n",
      "8\tpython\n",
      "9\th...\n"
     ]
    }
   ],
   "source": [
    "STUDENT_EMAIL = \"bhavnoormarok@cse.iitb.ac.in\"\n",
    "STUDENT_TOKEN = \"QXX6gqrNiY4wGKBB\"\n",
    "grader.status()"
   ]
  },
  {
   "cell_type": "markdown",
   "metadata": {},
   "source": [
    "If you want to submit these answers, run cell below"
   ]
  },
  {
   "cell_type": "code",
   "execution_count": 77,
   "metadata": {},
   "outputs": [
    {
     "name": "stdout",
     "output_type": "stream",
     "text": [
      "Submitted to Coursera platform. See results on assignment page!\n"
     ]
    }
   ],
   "source": [
    "grader.submit(STUDENT_EMAIL, STUDENT_TOKEN)"
   ]
  },
  {
   "cell_type": "code",
   "execution_count": null,
   "metadata": {},
   "outputs": [],
   "source": []
  }
 ],
 "metadata": {
  "kernelspec": {
   "display_name": "Python 3",
   "language": "python",
   "name": "python3"
  },
  "language_info": {
   "codemirror_mode": {
    "name": "ipython",
    "version": 3
   },
   "file_extension": ".py",
   "mimetype": "text/x-python",
   "name": "python",
   "nbconvert_exporter": "python",
   "pygments_lexer": "ipython3",
   "version": "3.7.6"
  }
 },
 "nbformat": 4,
 "nbformat_minor": 2
}
